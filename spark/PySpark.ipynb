{
 "cells": [
  {
   "cell_type": "code",
   "execution_count": 1,
   "metadata": {},
   "outputs": [],
   "source": [
    "import numpy as np\n",
    "import random \n",
    "import matplotlib.pyplot as plt\n",
    "import pandas as pd\n",
    "import sys"
   ]
  },
  {
   "cell_type": "code",
   "execution_count": 2,
   "metadata": {},
   "outputs": [],
   "source": [
    "import findspark\n",
    "findspark.init()\n",
    "import pyspark\n",
    "from pyspark.sql import Row \n",
    "import pyspark.sql.functions as F\n",
    "from pyspark.sql import SQLContext\n",
    "from pyspark.sql.types import IntegerType, LongType, FloatType\n",
    "from pyspark.sql.window import Window\n"
   ]
  },
  {
   "cell_type": "code",
   "execution_count": 3,
   "metadata": {},
   "outputs": [],
   "source": [
    "sc = pyspark.SparkContext(appName ='TSP3')\n",
    "\n"
   ]
  },
  {
   "cell_type": "code",
   "execution_count": 4,
   "metadata": {},
   "outputs": [],
   "source": [
    "sqlContext = SQLContext(sc)\n"
   ]
  },
  {
   "cell_type": "code",
   "execution_count": 5,
   "metadata": {},
   "outputs": [],
   "source": [
    "def distance(city1, city2):\n",
    "    \n",
    "    Distance = np.sqrt(sum(map(lambda x, y: (x-y)**2, city1,city2)))\n",
    "\n",
    "    return Distance\n",
    "    \n",
    "def routeDistance(route):\n",
    "    dist = 0\n",
    "    \n",
    "    N = 15  #Number of cities \n",
    "    starting_point = route[0]\n",
    "    final_point = route[N-1]\n",
    "    for i in range(N-1):\n",
    "        dist += distance(route[i], route[i+1])\n",
    "        \n",
    "        \n",
    "    dist += distance(starting_point,final_point)      \n",
    "        \n",
    "    return dist\n",
    "                   \n",
    "    \n",
    "def routeFitness(route):\n",
    "    fitness = 0\n",
    "    fitness = 1/ float(routeDistance(route))\n",
    "    return fitness"
   ]
  },
  {
   "cell_type": "code",
   "execution_count": 17,
   "metadata": {},
   "outputs": [],
   "source": [
    "   \n",
    "def createRoute(cityList):\n",
    "    \"\"\"\n",
    "    size = cityList.count() # as option we could use a fixed number: number of cities \n",
    "    route = cityList.takeSample(False, size)\n",
    "    \"\"\"\n",
    "    \n",
    "    route = random.sample(cityList, len(cityList))   \n",
    "    return route\n",
    "       \n",
    "    \n",
    "def initialPopulation(popSize, cityList):\n",
    "    \n",
    "    population = []\n",
    "\n",
    "    for i in range(0, popSize):\n",
    "        population.append([[i],createRoute(cityList)])\n",
    "        \n",
    "       \n",
    "    #dPopulation = sc.parallelize(population, 15)      \n",
    "    #dfPop = dPopulation.map(lambda x: Row(index=x[0], route=x[1]))\n",
    "    \n",
    "    df = sqlContext.createDataFrame(population)    \n",
    "    return df\n",
    "\n",
    "def rankRoutes(df):\n",
    "\n",
    "    fitnessResults = F.udf(lambda x: routeFitness(x) , FloatType())\n",
    "                         \n",
    "    new_df =df.select(df._2, fitnessResults(df._2).alias('RouteFitness'))\n",
    "    \n",
    "    final_df = df.join(new_df, df._2 == new_df._2, 'outer').select(df._1, new_df._2, new_df.RouteFitness)\n",
    "    \n",
    "    ordered_df = final_df.orderBy(final_df.RouteFitness, ascending = False)\n",
    "\n",
    "    return ordered_df\n",
    "\n",
    "def randomNumber():\n",
    "    \n",
    "    return 100*random.random()\n",
    "\n",
    "\n",
    "def selection(ordered_df, eliteSize):\n",
    "    \n",
    "    \n",
    "    fitnessTotal = ordered_df.groupBy().sum('RouteFitness').collect()[0][0]\n",
    "    cumulative_sum = ordered_df.withColumn('cumSum', F.sum(ordered_df.RouteFitness).over(Window.partitionBy().orderBy().rowsBetween(-sys.maxsize, 0)))    \n",
    "    \n",
    "    relativeFitness = F.udf(lambda x: 100*x/fitnessTotal , FloatType())\n",
    "    cumulative_sum = cumulative_sum.withColumn('RelativeFitness', relativeFitness(cumulative_sum.cumSum))\n",
    "      \n",
    "    #randomGeneration = F.udf(lambda x: 100*random.random(), FloatType())\n",
    "    #cumulative_sum = cumulative_sum.withColumn('RandomNumber', randomGeneration(cumulative_sum.cumSum))\n",
    "    \n",
    "    #firstSelection = spark.sql(\"SELECT _1, MAX ('RouteFitness') AS bestIndividual from ordered_df LIMIT eliteSize\")\n",
    "    \n",
    "    return cumulative_sum\n",
    "\n",
    "                                                       \n",
    "                              \n",
    "\"\"\"\n",
    "def selection(ordered_df, eliteSize):\n",
    "    \n",
    "    selectionResults = []\n",
    "    relativeFitness = []\n",
    "    \n",
    "    fitnessTotal = np.sum(popRanked, axis = 0)\n",
    "    cumulative_sum = np.cumsum(popRanked, axis =0)\n",
    "    \n",
    "    for i in range(len(popRanked)):\n",
    "        relativeFitness.append(100*cumulative_sum[i][1]/fitnessTotal[1])\n",
    "    \n",
    "    for i in range(0, eliteSize):\n",
    "        selectionResults.append(popRanked[i][0])\n",
    "    \n",
    "    for i in range(0, len(popRanked)-eliteSize):\n",
    "        pick = 100*random.random()\n",
    "        for i in range(0, len(popRanked)):\n",
    "            if pick <= relativeFitness[i]: \n",
    "                selectionResults.append(popRanked[i][0])\n",
    "                break\n",
    "                \n",
    "    return selectionResults\n",
    "\"\"\"\n",
    "\n",
    "def matingPool(population, selectionResults):\n",
    "    matingpool = []\n",
    "    \n",
    "    for i in range(len(selectionResults)):\n",
    "        matingpool.append(population[selectionResults[i]])\n",
    "    \n",
    "    return matingpool\n",
    "\n",
    "\n",
    "def breed(parent1, parent2):\n",
    "    \n",
    "    a = random.randint(0, len(parent1))\n",
    "    b = random.randint(0, len(parent1))\n",
    "    \n",
    "    if a>b:\n",
    "        child= parent1[b:a]\n",
    "    else:\n",
    "        child=parent1[a:b]\n",
    "        \n",
    "    for i in range(len(parent2)):\n",
    "        if (parent2[i] not in child):\n",
    "            child.append(parent2[i])                \n",
    "\n",
    "    return child\n",
    "\n",
    "def breedPopulation(matingpool, eliteSize):\n",
    "    children = []\n",
    "    length = len(matingpool) - eliteSize\n",
    "    pool = random.sample(matingpool, len(matingpool))\n",
    "\n",
    "    for i in range(0,eliteSize):\n",
    "        children.append(matingpool[i])\n",
    "    \n",
    "    for i in range(0, length):\n",
    "        child = breed(pool[i], pool[len(matingpool)-i-1])\n",
    "        children.append(child)\n",
    "    return children\n",
    "\n",
    "def mutate(individual, mutationRate):\n",
    "    \n",
    "    \"\"\" Partial Shuffle Mutation \"\"\"\n",
    "    \n",
    "    for swapped in range(len(individual)):\n",
    "        if(random.random() < mutationRate):\n",
    "            swapWith = int(random.random() * len(individual))\n",
    "            \n",
    "            city1 = individual[swapped]\n",
    "            city2 = individual[swapWith]\n",
    "            \n",
    "            individual[swapped] = city2\n",
    "            individual[swapWith] = city1\n",
    "    return individual\n",
    "\n",
    "def mutatePopulation(population, mutationRate):\n",
    "    mutatedPop = []\n",
    "    \n",
    "    for ind in range(0, len(population)):\n",
    "        mutatedInd = mutate(population[ind], mutationRate)\n",
    "        mutatedPop.append(mutatedInd)\n",
    "    return mutatedPop\n",
    "\n",
    "\n",
    "def nextGeneration(currentGen, eliteSize, mutationRate):\n",
    "    popRanked = rankRoutes(currentGen)\n",
    "    selectionResults = selection(popRanked, eliteSize)\n",
    "    matingpool = matingPool(currentGen, selectionResults)\n",
    "    children = breedPopulation(matingpool, eliteSize)\n",
    "    nextGeneration = mutatePopulation(children, mutationRate)\n",
    "    return nextGeneration\n",
    "\n",
    "def geneticAlgorithmPlot(population, popSize, eliteSize, mutationRate, generations):\n",
    "    pop = initialPopulation(popSize, population)\n",
    "    progress = []\n",
    "    progress.append(1 / rankRoutes(pop)[0][1])\n",
    "    \n",
    "    for i in range(0, generations):\n",
    "        pop = nextGeneration(pop, eliteSize, mutationRate)\n",
    "        progress.append(1 / rankRoutes(pop)[0][1])\n",
    "    \n",
    "    plt.plot(progress)\n",
    "    plt.ylabel('Distance')\n",
    "    plt.xlabel('Generation')\n",
    "    plt.show()\n",
    "    \n",
    "    \n",
    "\n",
    "    \n"
   ]
  },
  {
   "cell_type": "code",
   "execution_count": 7,
   "metadata": {},
   "outputs": [],
   "source": [
    "cityList = []\n",
    "\n",
    "for i in range(0,15):\n",
    "    cityList.append([int(random.randint(0,200)), int(random.randint(0,200))])\n"
   ]
  },
  {
   "cell_type": "code",
   "execution_count": 8,
   "metadata": {},
   "outputs": [],
   "source": [
    "df = initialPopulation(15, cityList)"
   ]
  },
  {
   "cell_type": "code",
   "execution_count": 9,
   "metadata": {},
   "outputs": [
    {
     "data": {
      "text/plain": [
       "DataFrame[_1: array<bigint>, _2: array<array<bigint>>]"
      ]
     },
     "metadata": {},
     "output_type": "display_data"
    },
    {
     "name": "stdout",
     "output_type": "stream",
     "text": [
      "+---+--------------------+\n",
      "| _1|                  _2|\n",
      "+---+--------------------+\n",
      "|[0]|[[84, 132], [75, ...|\n",
      "|[1]|[[84, 132], [6, 6...|\n",
      "|[2]|[[122, 77], [59, ...|\n",
      "|[3]|[[6, 69], [34, 14...|\n",
      "|[4]|[[42, 173], [195,...|\n",
      "+---+--------------------+\n",
      "only showing top 5 rows\n",
      "\n"
     ]
    }
   ],
   "source": [
    "display(df)\n",
    "df.show(5)"
   ]
  },
  {
   "cell_type": "code",
   "execution_count": 10,
   "metadata": {},
   "outputs": [],
   "source": [
    "ordered_df = rankRoutes(df)"
   ]
  },
  {
   "cell_type": "code",
   "execution_count": 11,
   "metadata": {},
   "outputs": [
    {
     "name": "stdout",
     "output_type": "stream",
     "text": [
      "+----+--------------------+------------+\n",
      "|  _1|                  _2|RouteFitness|\n",
      "+----+--------------------+------------+\n",
      "| [5]|[[34, 144], [23, ...|8.1544236E-4|\n",
      "| [6]|[[122, 77], [75, ...|7.7358476E-4|\n",
      "|[12]|[[122, 77], [86, ...|7.6519675E-4|\n",
      "| [0]|[[84, 132], [75, ...| 7.403956E-4|\n",
      "| [4]|[[42, 173], [195,...|7.2556105E-4|\n",
      "| [2]|[[122, 77], [59, ...|7.0987886E-4|\n",
      "| [8]|[[6, 69], [59, 44...|6.8093627E-4|\n",
      "|[10]|[[6, 69], [42, 17...| 6.343118E-4|\n",
      "|[11]|[[6, 69], [55, 9]...|6.2787795E-4|\n",
      "|[13]|[[23, 94], [140, ...|6.2742166E-4|\n",
      "| [1]|[[84, 132], [6, 6...| 6.231016E-4|\n",
      "|[14]|[[42, 173], [86, ...|6.0853135E-4|\n",
      "| [3]|[[6, 69], [34, 14...| 5.938387E-4|\n",
      "| [9]|[[133, 106], [34,...| 5.929081E-4|\n",
      "| [7]|[[34, 144], [133,...|5.8442843E-4|\n",
      "+----+--------------------+------------+\n",
      "\n"
     ]
    }
   ],
   "source": [
    "ordered_df.show()"
   ]
  },
  {
   "cell_type": "code",
   "execution_count": 19,
   "metadata": {},
   "outputs": [],
   "source": [
    "cumulative_df = selection(ordered_df, 5)"
   ]
  },
  {
   "cell_type": "code",
   "execution_count": 20,
   "metadata": {},
   "outputs": [
    {
     "name": "stdout",
     "output_type": "stream",
     "text": [
      "+----+--------------------+------------+--------------------+---------------+\n",
      "|  _1|                  _2|RouteFitness|              cumSum|RelativeFitness|\n",
      "+----+--------------------+------------+--------------------+---------------+\n",
      "| [5]|[[34, 144], [23, ...|8.1544236E-4|8.154423558153212E-4|       8.070957|\n",
      "| [6]|[[122, 77], [75, ...|7.7358476E-4|0.001589027117006...|      15.727624|\n",
      "|[12]|[[122, 77], [86, ...|7.6519675E-4|0.002354223863221705|      23.301268|\n",
      "| [0]|[[84, 132], [75, ...| 7.403956E-4|0.003094619489274919|       30.62944|\n",
      "| [4]|[[42, 173], [195,...|7.2556105E-4|0.003820180543698...|      37.810783|\n",
      "| [2]|[[122, 77], [59, ...|7.0987886E-4|0.004530059406533837|       44.83691|\n",
      "| [8]|[[6, 69], [59, 44...|6.8093627E-4|0.005210995674133301|      51.576576|\n",
      "|[10]|[[6, 69], [42, 17...| 6.343118E-4|0.005845307488925755|      57.854767|\n",
      "|[11]|[[6, 69], [55, 9]...|6.2787795E-4|0.006473185436334461|       64.06928|\n",
      "|[13]|[[23, 94], [140, ...|6.2742166E-4|0.007100607093889266|      70.279274|\n",
      "| [1]|[[84, 132], [6, 6...| 6.231016E-4|0.007723708695266396|       76.44651|\n",
      "|[14]|[[42, 173], [86, ...|6.0853135E-4| 0.00833224004600197|      82.469536|\n",
      "| [3]|[[6, 69], [34, 14...| 5.938387E-4| 0.00892607873538509|      88.347145|\n",
      "| [9]|[[133, 106], [34,...| 5.929081E-4|0.009518986858893186|       94.21554|\n",
      "| [7]|[[34, 144], [133,...|5.8442843E-4|0.010103415290359408|          100.0|\n",
      "+----+--------------------+------------+--------------------+---------------+\n",
      "\n"
     ]
    }
   ],
   "source": [
    "cumulative_df.show()"
   ]
  },
  {
   "cell_type": "code",
   "execution_count": null,
   "metadata": {},
   "outputs": [],
   "source": []
  }
 ],
 "metadata": {
  "kernelspec": {
   "display_name": "Python 3",
   "language": "python",
   "name": "python3"
  },
  "language_info": {
   "codemirror_mode": {
    "name": "ipython",
    "version": 3
   },
   "file_extension": ".py",
   "mimetype": "text/x-python",
   "name": "python",
   "nbconvert_exporter": "python",
   "pygments_lexer": "ipython3",
   "version": "3.7.6"
  }
 },
 "nbformat": 4,
 "nbformat_minor": 4
}
