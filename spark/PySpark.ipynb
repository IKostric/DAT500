{
 "cells": [
  {
   "cell_type": "code",
   "execution_count": 1,
   "metadata": {},
   "outputs": [],
   "source": [
    "import os\n",
    "# make sure pyspark tells workers to use python3 not 2 if both are installed\n",
    "os.environ['PYSPARK_DRIVER_PYTHON'] = '/usr/bin/python3.8'\n",
    "os.environ['PYSPARK_PYTHON'] = '/usr/bin/python3.8'"
   ]
  },
  {
   "cell_type": "code",
   "execution_count": 2,
   "metadata": {},
   "outputs": [],
   "source": [
    "import numpy as np\n",
    "import random \n",
    "import matplotlib.pyplot as plt\n",
    "import pandas as pd\n",
    "import sys"
   ]
  },
  {
   "cell_type": "code",
   "execution_count": 3,
   "metadata": {},
   "outputs": [],
   "source": [
    "import findspark\n",
    "findspark.init()\n",
    "import pyspark\n",
    "from pyspark.sql import Row \n",
    "import pyspark.sql.functions as F\n",
    "from pyspark.sql import SQLContext\n",
    "from pyspark.sql.types import IntegerType, LongType, FloatType\n",
    "from pyspark.sql.window import Window\n",
    ""
   ]
  },
  {
   "cell_type": "code",
   "execution_count": 4,
   "metadata": {},
   "outputs": [],
   "source": [
    "sc = pyspark.SparkContext(appName ='TSP3')\n",
    "\n",
    ""
   ]
  },
  {
   "cell_type": "code",
   "execution_count": 5,
   "metadata": {},
   "outputs": [],
   "source": [
    "sqlContext = SQLContext(sc)\n",
    ""
   ]
  },
  {
   "cell_type": "code",
   "execution_count": 6,
   "metadata": {},
   "outputs": [],
   "source": [
    "def distance(city1, city2):\n",
    "    \n",
    "    Distance = np.sqrt(sum(map(lambda x, y: (x-y)**2, city1,city2)))\n",
    "\n",
    "    return Distance\n",
    "    \n",
    "def routeDistance(route):\n",
    "    dist = 0\n",
    "    \n",
    "    N = 5  #Number of cities # TODO get the length from the list?\n",
    "    starting_point = route[0]\n",
    "    final_point = route[N-1]\n",
    "    for i in range(N-1):\n",
    "        dist += distance(route[i], route[i+1])\n",
    "        \n",
    "        \n",
    "    dist += distance(starting_point,final_point)      \n",
    "        \n",
    "    return dist\n",
    "                   \n",
    "    \n",
    "def routeFitness(route):\n",
    "    fitness = 0\n",
    "    fitness = 1/ float(routeDistance(route))\n",
    "    return fitness"
   ]
  },
  {
   "cell_type": "code",
   "execution_count": 7,
   "metadata": {},
   "outputs": [],
   "source": [
    "   \n",
    "def createRoute(cityList):\n",
    "    \"\"\"\n",
    "    size = cityList.count() # as option we could use a fixed number: number of cities \n",
    "    route = cityList.takeSample(False, size)\n",
    "    \"\"\"\n",
    "    \n",
    "    route = random.sample(cityList, len(cityList))   \n",
    "    return route\n",
    "       \n",
    "    \n",
    "def initialPopulation(popSize, cityList):\n",
    "    \n",
    "    population = []\n",
    "\n",
    "    for i in range(0, popSize):\n",
    "        population.append([[i],createRoute(cityList)])\n",
    "        \n",
    "       \n",
    "    # rdd\n",
    "    rdd = sc.parallelize(population)      \n",
    "    # rddPop = dPopulation.map(lambda x: Row(index=x[0], route=x[1])) # Is this line necessary or conveniance\n",
    "    \n",
    "    df = sqlContext.createDataFrame(population)    \n",
    "    return rdd, df #sc.parallelize(population)\n",
    "\n",
    "def rankRoutes(rdd, df):\n",
    "\n",
    "    fitnessResults = F.udf(lambda x: routeFitness(x) , FloatType())\n",
    "    new_df = df.select(df._2, fitnessResults(df._2).alias('RouteFitness'))\n",
    "    final_df = df.join(new_df, df._2 == new_df._2, 'outer').select(df._1, new_df._2, new_df.RouteFitness)\n",
    "    ordered_df = final_df.orderBy(final_df.RouteFitness, ascending = False)\n",
    "\n",
    "    # rdd\n",
    "    ordered_rdd = rdd.map(lambda row: (routeFitness(row[1]), row[1])).sortByKey(ascending=False)  \n",
    "\n",
    "    return ordered_rdd, ordered_df\n",
    "\n",
    "def randomNumber():\n",
    "    \n",
    "    return 100*random.random()\n",
    "\n",
    "\n",
    "def selection(ordered_df, ordered_rdd, eliteSize):\n",
    "    \n",
    "    \n",
    "    fitnessTotal = ordered_df.groupBy().sum('RouteFitness').collect()[0][0]\n",
    "    cumulative_sum = ordered_df.withColumn('cumSum', F.sum(ordered_df.RouteFitness).over(Window.partitionBy().orderBy().rowsBetween(-sys.maxsize, 0)))    \n",
    "    \n",
    "    relativeFitness = F.udf(lambda x: 100*x/fitnessTotal , FloatType())\n",
    "    cumulative_sum = cumulative_sum.withColumn('RelativeFitness', relativeFitness(cumulative_sum.cumSum))\n",
    "\n",
    "    cumulative_rdd = ordered_rdd\n",
    "      \n",
    "    #randomGeneration = F.udf(lambda x: 100*random.random(), FloatType())\n",
    "    #cumulative_sum = cumulative_sum.withColumn('RandomNumber', randomGeneration(cumulative_sum.cumSum))\n",
    "    \n",
    "    #firstSelection = spark.sql(\"SELECT _1, MAX ('RouteFitness') AS bestIndividual from ordered_df LIMIT eliteSize\")\n",
    "    \n",
    "    return cumulative_sum, cumulative_rdd\n",
    "\n",
    "                                                       \n",
    "                              \n",
    "\"\"\"\n",
    "def selection(ordered_df, eliteSize):\n",
    "    \n",
    "    selectionResults = []\n",
    "    relativeFitness = []\n",
    "    \n",
    "    fitnessTotal = np.sum(popRanked, axis = 0)\n",
    "    cumulative_sum = np.cumsum(popRanked, axis =0)\n",
    "    \n",
    "    for i in range(len(popRanked)):\n",
    "        relativeFitness.append(100*cumulative_sum[i][1]/fitnessTotal[1])\n",
    "    \n",
    "    for i in range(0, eliteSize):\n",
    "        selectionResults.append(popRanked[i][0])\n",
    "    \n",
    "    for i in range(0, len(popRanked)-eliteSize):\n",
    "        pick = 100*random.random()\n",
    "        for i in range(0, len(popRanked)):\n",
    "            if pick <= relativeFitness[i]: \n",
    "                selectionResults.append(popRanked[i][0])\n",
    "                break\n",
    "                \n",
    "    return selectionResults\n",
    "\"\"\"\n",
    "\n",
    "def matingPool(population, selectionResults):\n",
    "    matingpool = []\n",
    "    \n",
    "    for i in range(len(selectionResults)):\n",
    "        matingpool.append(population[selectionResults[i]])\n",
    "    \n",
    "    return matingpool\n",
    "\n",
    "\n",
    "def breed(parent1, parent2):\n",
    "    \n",
    "    a = random.randint(0, len(parent1))\n",
    "    b = random.randint(0, len(parent1))\n",
    "    \n",
    "    if a>b:\n",
    "        child= parent1[b:a]\n",
    "    else:\n",
    "        child=parent1[a:b]\n",
    "        \n",
    "    for i in range(len(parent2)):\n",
    "        if (parent2[i] not in child):\n",
    "            child.append(parent2[i])                \n",
    "\n",
    "    return child\n",
    "\n",
    "def breedPopulation(matingpool, eliteSize):\n",
    "    children = []\n",
    "    length = len(matingpool) - eliteSize\n",
    "    pool = random.sample(matingpool, len(matingpool))\n",
    "\n",
    "    for i in range(0,eliteSize):\n",
    "        children.append(matingpool[i])\n",
    "    \n",
    "    for i in range(0, length):\n",
    "        child = breed(pool[i], pool[len(matingpool)-i-1])\n",
    "        children.append(child)\n",
    "    return children\n",
    "\n",
    "def mutate(individual, mutationRate):\n",
    "    \n",
    "    \"\"\" Partial Shuffle Mutation \"\"\"\n",
    "    \n",
    "    for swapped in range(len(individual)):\n",
    "        if(random.random() < mutationRate):\n",
    "            swapWith = int(random.random() * len(individual))\n",
    "            \n",
    "            city1 = individual[swapped]\n",
    "            city2 = individual[swapWith]\n",
    "            \n",
    "            individual[swapped] = city2\n",
    "            individual[swapWith] = city1\n",
    "    return individual\n",
    "\n",
    "def mutatePopulation(population, mutationRate):\n",
    "    mutatedPop = []\n",
    "    \n",
    "    for ind in range(0, len(population)):\n",
    "        mutatedInd = mutate(population[ind], mutationRate)\n",
    "        mutatedPop.append(mutatedInd)\n",
    "    return mutatedPop\n",
    "\n",
    "\n",
    "def nextGeneration(currentGen, eliteSize, mutationRate):\n",
    "    popRanked = rankRoutes(currentGen)\n",
    "    selectionResults = selection(popRanked, eliteSize)\n",
    "    matingpool = matingPool(currentGen, selectionResults)\n",
    "    children = breedPopulation(matingpool, eliteSize)\n",
    "    nextGeneration = mutatePopulation(children, mutationRate)\n",
    "    return nextGeneration\n",
    "\n",
    "def geneticAlgorithmPlot(population, popSize, eliteSize, mutationRate, generations):\n",
    "    pop = initialPopulation(popSize, population)\n",
    "    progress = []\n",
    "    progress.append(1 / rankRoutes(pop)[0][1])\n",
    "    \n",
    "    for i in range(0, generations):\n",
    "        pop = nextGeneration(pop, eliteSize, mutationRate)\n",
    "        progress.append(1 / rankRoutes(pop)[0][1])\n",
    "    \n",
    "    plt.plot(progress)\n",
    "    plt.ylabel('Distance')\n",
    "    plt.xlabel('Generation')\n",
    "    plt.show()\n",
    "    \n",
    "    \n",
    "\n",
    "    \n",
    ""
   ]
  },
  {
   "cell_type": "code",
   "execution_count": 8,
   "metadata": {},
   "outputs": [],
   "source": [
    "cityList = []\n",
    "\n",
    "for i in range(0,15):\n",
    "    cityList.append([int(random.randint(0,100)), int(random.randint(0,100))])\n",
    ""
   ]
  },
  {
   "cell_type": "code",
   "execution_count": 9,
   "metadata": {},
   "outputs": [],
   "source": [
    "rdd, df = initialPopulation(5, cityList)"
   ]
  },
  {
   "cell_type": "code",
   "execution_count": 10,
   "metadata": {},
   "outputs": [
    {
     "output_type": "display_data",
     "data": {
      "text/plain": "DataFrame[_1: array<bigint>, _2: array<array<bigint>>]"
     },
     "metadata": {}
    },
    {
     "output_type": "stream",
     "name": "stdout",
     "text": "+---+--------------------+\n| _1|                  _2|\n+---+--------------------+\n|[0]|[[9, 40], [18, 63...|\n|[1]|[[18, 63], [82, 9...|\n|[2]|[[1, 67], [32, 48...|\n|[3]|[[93, 77], [51, 5...|\n|[4]|[[32, 48], [1, 67...|\n+---+--------------------+\n\n"
    }
   ],
   "source": [
    "display(df)\n",
    "df.show(5)"
   ]
  },
  {
   "cell_type": "code",
   "execution_count": 11,
   "metadata": {},
   "outputs": [
    {
     "output_type": "display_data",
     "data": {
      "text/plain": "ParallelCollectionRDD[0] at readRDDFromFile at PythonRDD.scala:247"
     },
     "metadata": {}
    },
    {
     "output_type": "execute_result",
     "data": {
      "text/plain": "[Row(_1=[0], _2=[[9, 40], [18, 63], [82, 99], [98, 4], [4, 39], [92, 18], [5, 73], [1, 67], [50, 27], [83, 84], [93, 77], [98, 50], [51, 50], [32, 48], [32, 38]]),\n Row(_1=[1], _2=[[18, 63], [82, 99], [93, 77], [32, 48], [92, 18], [32, 38], [98, 50], [83, 84], [1, 67], [9, 40], [50, 27], [4, 39], [51, 50], [5, 73], [98, 4]]),\n Row(_1=[2], _2=[[1, 67], [32, 48], [98, 4], [82, 99], [92, 18], [50, 27], [93, 77], [83, 84], [9, 40], [98, 50], [51, 50], [5, 73], [32, 38], [18, 63], [4, 39]]),\n Row(_1=[3], _2=[[93, 77], [51, 50], [92, 18], [1, 67], [32, 48], [98, 50], [98, 4], [5, 73], [4, 39], [9, 40], [83, 84], [82, 99], [18, 63], [50, 27], [32, 38]]),\n Row(_1=[4], _2=[[32, 48], [1, 67], [93, 77], [4, 39], [50, 27], [83, 84], [32, 38], [98, 50], [18, 63], [9, 40], [98, 4], [92, 18], [82, 99], [5, 73], [51, 50]])]"
     },
     "metadata": {},
     "execution_count": 11
    }
   ],
   "source": [
    "display(rdd)\n",
    "df.take(5)"
   ]
  },
  {
   "cell_type": "code",
   "execution_count": 12,
   "metadata": {},
   "outputs": [],
   "source": [
    "ordered_rdd, ordered_df = rankRoutes(rdd, df)"
   ]
  },
  {
   "cell_type": "code",
   "execution_count": 13,
   "metadata": {},
   "outputs": [
    {
     "output_type": "stream",
     "name": "stdout",
     "text": "+---+--------------------+------------+\n| _1|                  _2|RouteFitness|\n+---+--------------------+------------+\n|[0]|[[9, 40], [18, 63...|0.0033347793|\n|[4]|[[32, 48], [1, 67...|  0.00332367|\n|[3]|[[93, 77], [51, 5...|0.0032342025|\n|[1]|[[18, 63], [82, 9...| 0.003132244|\n|[2]|[[1, 67], [32, 48...|0.0025189673|\n+---+--------------------+------------+\n\n"
    }
   ],
   "source": [
    "ordered_df.show(5)"
   ]
  },
  {
   "cell_type": "code",
   "execution_count": 14,
   "metadata": {},
   "outputs": [
    {
     "output_type": "execute_result",
     "data": {
      "text/plain": "[(0.0033347792968817635,\n  [[9, 40],\n   [18, 63],\n   [82, 99],\n   [98, 4],\n   [4, 39],\n   [92, 18],\n   [5, 73],\n   [1, 67],\n   [50, 27],\n   [83, 84],\n   [93, 77],\n   [98, 50],\n   [51, 50],\n   [32, 48],\n   [32, 38]]),\n (0.003323670082718724,\n  [[32, 48],\n   [1, 67],\n   [93, 77],\n   [4, 39],\n   [50, 27],\n   [83, 84],\n   [32, 38],\n   [98, 50],\n   [18, 63],\n   [9, 40],\n   [98, 4],\n   [92, 18],\n   [82, 99],\n   [5, 73],\n   [51, 50]]),\n (0.0032342026091684356,\n  [[93, 77],\n   [51, 50],\n   [92, 18],\n   [1, 67],\n   [32, 48],\n   [98, 50],\n   [98, 4],\n   [5, 73],\n   [4, 39],\n   [9, 40],\n   [83, 84],\n   [82, 99],\n   [18, 63],\n   [50, 27],\n   [32, 38]]),\n (0.0031322441080146144,\n  [[18, 63],\n   [82, 99],\n   [93, 77],\n   [32, 48],\n   [92, 18],\n   [32, 38],\n   [98, 50],\n   [83, 84],\n   [1, 67],\n   [9, 40],\n   [50, 27],\n   [4, 39],\n   [51, 50],\n   [5, 73],\n   [98, 4]]),\n (0.002518967168786486,\n  [[1, 67],\n   [32, 48],\n   [98, 4],\n   [82, 99],\n   [92, 18],\n   [50, 27],\n   [93, 77],\n   [83, 84],\n   [9, 40],\n   [98, 50],\n   [51, 50],\n   [5, 73],\n   [32, 38],\n   [18, 63],\n   [4, 39]])]"
     },
     "metadata": {},
     "execution_count": 14
    }
   ],
   "source": [
    "ordered_rdd.take(5)"
   ]
  },
  {
   "cell_type": "code",
   "execution_count": 15,
   "metadata": {},
   "outputs": [],
   "source": [
    "cumulative_df, cumulative_rdd = selection(ordered_df, ordered_rdd, 5)"
   ]
  },
  {
   "cell_type": "code",
   "execution_count": 16,
   "metadata": {},
   "outputs": [
    {
     "output_type": "stream",
     "name": "stdout",
     "text": "+---+--------------------+------------+--------------------+---------------+\n| _1|                  _2|RouteFitness|              cumSum|RelativeFitness|\n+---+--------------------+------------+--------------------+---------------+\n|[0]|[[9, 40], [18, 63...|0.0033347793|0.003334779292345047|      21.453993|\n|[4]|[[32, 48], [1, 67...|  0.00332367|0.006658449303358793|      42.836514|\n|[3]|[[93, 77], [51, 5...|0.0032342025|0.009892651811242104|      63.643456|\n|[1]|[[18, 63], [82, 9...| 0.003132244|0.013024895917624235|       83.79446|\n|[2]|[[1, 67], [32, 48...|0.0025189673|  0.0155438631772995|          100.0|\n+---+--------------------+------------+--------------------+---------------+\n\n"
    }
   ],
   "source": [
    "cumulative_df.show()"
   ]
  },
  {
   "cell_type": "code",
   "execution_count": 17,
   "metadata": {},
   "outputs": [
    {
     "output_type": "execute_result",
     "data": {
      "text/plain": "[(0.0033347792968817635,\n  [[9, 40],\n   [18, 63],\n   [82, 99],\n   [98, 4],\n   [4, 39],\n   [92, 18],\n   [5, 73],\n   [1, 67],\n   [50, 27],\n   [83, 84],\n   [93, 77],\n   [98, 50],\n   [51, 50],\n   [32, 48],\n   [32, 38]]),\n (0.003323670082718724,\n  [[32, 48],\n   [1, 67],\n   [93, 77],\n   [4, 39],\n   [50, 27],\n   [83, 84],\n   [32, 38],\n   [98, 50],\n   [18, 63],\n   [9, 40],\n   [98, 4],\n   [92, 18],\n   [82, 99],\n   [5, 73],\n   [51, 50]]),\n (0.0032342026091684356,\n  [[93, 77],\n   [51, 50],\n   [92, 18],\n   [1, 67],\n   [32, 48],\n   [98, 50],\n   [98, 4],\n   [5, 73],\n   [4, 39],\n   [9, 40],\n   [83, 84],\n   [82, 99],\n   [18, 63],\n   [50, 27],\n   [32, 38]]),\n (0.0031322441080146144,\n  [[18, 63],\n   [82, 99],\n   [93, 77],\n   [32, 48],\n   [92, 18],\n   [32, 38],\n   [98, 50],\n   [83, 84],\n   [1, 67],\n   [9, 40],\n   [50, 27],\n   [4, 39],\n   [51, 50],\n   [5, 73],\n   [98, 4]]),\n (0.002518967168786486,\n  [[1, 67],\n   [32, 48],\n   [98, 4],\n   [82, 99],\n   [92, 18],\n   [50, 27],\n   [93, 77],\n   [83, 84],\n   [9, 40],\n   [98, 50],\n   [51, 50],\n   [5, 73],\n   [32, 38],\n   [18, 63],\n   [4, 39]])]"
     },
     "metadata": {},
     "execution_count": 17
    }
   ],
   "source": [
    "cumulative_rdd.collect()"
   ]
  }
 ],
 "metadata": {
  "kernelspec": {
   "display_name": "Python 3.8.2 64-bit ('hadoop': conda)",
   "language": "python",
   "name": "python38264bithadoopconda85b2a99cf1ad472a8180d7961af55868"
  },
  "language_info": {
   "codemirror_mode": {
    "name": "ipython",
    "version": 3
   },
   "file_extension": ".py",
   "mimetype": "text/x-python",
   "name": "python",
   "nbconvert_exporter": "python",
   "pygments_lexer": "ipython3",
   "version": "3.8.2-final"
  }
 },
 "nbformat": 4,
 "nbformat_minor": 4
}