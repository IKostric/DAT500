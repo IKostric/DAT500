{
 "cells": [
  {
   "cell_type": "code",
   "execution_count": 1,
   "metadata": {},
   "outputs": [],
   "source": [
    "import os\n",
    "# make sure pyspark tells workers to use python3 not 2 if both are installed\n",
    "os.environ['PYSPARK_DRIVER_PYTHON'] = '/usr/bin/python3.8'\n",
    "os.environ['PYSPARK_PYTHON'] = '/usr/bin/python3.8'"
   ]
  },
  {
   "cell_type": "code",
   "execution_count": 2,
   "metadata": {},
   "outputs": [],
   "source": [
    "import numpy as np\n",
    "import random \n",
    "import matplotlib.pyplot as plt\n",
    "import pandas as pd\n",
    "import sys"
   ]
  },
  {
   "cell_type": "code",
   "execution_count": 3,
   "metadata": {},
   "outputs": [],
   "source": [
    "import findspark\n",
    "findspark.init()\n",
    "import pyspark\n",
    "from pyspark.sql import Row \n",
    "import pyspark.sql.functions as F\n",
    "from pyspark.sql import SQLContext\n",
    "from pyspark.sql.types import IntegerType, LongType, FloatType\n",
    "from pyspark.sql.window import Window\n",
    ""
   ]
  },
  {
   "cell_type": "code",
   "execution_count": 4,
   "metadata": {},
   "outputs": [],
   "source": [
    "sc = pyspark.SparkContext(appName ='TSP3')\n",
    "\n",
    ""
   ]
  },
  {
   "cell_type": "code",
   "execution_count": 22,
   "metadata": {},
   "outputs": [],
   "source": [
    "sqlContext = SQLContext(sc)\n",
    ""
   ]
  },
  {
   "cell_type": "code",
   "execution_count": 5,
   "metadata": {},
   "outputs": [],
   "source": [
    "def distance(city1, city2):\n",
    "    \n",
    "    Distance = np.sqrt(sum(map(lambda x, y: (x-y)**2, city1,city2)))\n",
    "\n",
    "    return Distance\n",
    "    \n",
    "def routeDistance(route):\n",
    "    dist = 0\n",
    "    \n",
    "    N = 5  #Number of cities # TODO get the length from the list?\n",
    "    starting_point = route[0]\n",
    "    final_point = route[N-1]\n",
    "    for i in range(N-1):\n",
    "        dist += distance(route[i], route[i+1])\n",
    "        \n",
    "        \n",
    "    dist += distance(starting_point,final_point)      \n",
    "        \n",
    "    return dist\n",
    "                   \n",
    "    \n",
    "def routeFitness(route):\n",
    "    fitness = 0\n",
    "    fitness = 1/ float(routeDistance(route))\n",
    "    return fitness"
   ]
  },
  {
   "cell_type": "code",
   "execution_count": 78,
   "metadata": {},
   "outputs": [],
   "source": [
    "   \n",
    "def createRoute(cityList):\n",
    "    \"\"\"\n",
    "    size = cityList.count() # as option we could use a fixed number: number of cities \n",
    "    route = cityList.takeSample(False, size)\n",
    "    \"\"\"\n",
    "    \n",
    "    route = random.sample(cityList, len(cityList))   \n",
    "    return route\n",
    "       \n",
    "    \n",
    "def initialPopulation(popSize, cityList):\n",
    "    \n",
    "    population = []\n",
    "\n",
    "    for i in range(0, popSize):\n",
    "        population.append([[i],createRoute(cityList)])\n",
    "        \n",
    "       \n",
    "    # rdd\n",
    "    rdd = sc.parallelize(population)      \n",
    "    # rddPop = dPopulation.map(lambda x: Row(index=x[0], route=x[1])) # Is this line necessary or conveniance\n",
    "    \n",
    "    df = sqlContext.createDataFrame(population)    \n",
    "    return rdd, df #sc.parallelize(population)\n",
    "\n",
    "def rankRoutes(rdd, df):\n",
    "\n",
    "    fitnessResults = F.udf(lambda x: routeFitness(x) , FloatType())\n",
    "    new_df = df.select(df._2, fitnessResults(df._2).alias('RouteFitness'))\n",
    "    final_df = df.join(new_df, df._2 == new_df._2, 'outer').select(df._1, new_df._2, new_df.RouteFitness)\n",
    "    ordered_df = final_df.orderBy(final_df.RouteFitness, ascending = False)\n",
    "\n",
    "    # rdd\n",
    "    ordered_rdd = rdd.map(lambda row: (routeFitness(row[1]), row[1])).sortByKey(ascending=False)  \n",
    "\n",
    "    return ordered_rdd, ordered_df\n",
    "\n",
    "def randomNumber():\n",
    "    \n",
    "    return 100*random.random()\n",
    "\n",
    "\n",
    "def selection(ordered_df, ordered_rdd, eliteSize):\n",
    "    \n",
    "    \n",
    "    fitnessTotal = ordered_df.groupBy().sum('RouteFitness').collect()[0][0]\n",
    "    cumulative_sum = ordered_df.withColumn('cumSum', F.sum(ordered_df.RouteFitness).over(Window.partitionBy().orderBy().rowsBetween(-sys.maxsize, 0)))    \n",
    "    \n",
    "    relativeFitness = F.udf(lambda x: 100*x/fitnessTotal , FloatType())\n",
    "    cumulative_sum = cumulative_sum.withColumn('RelativeFitness', relativeFitness(cumulative_sum.cumSum))\n",
    "\n",
    "    cumulative_rdd = ordered_rdd\n",
    "      \n",
    "    #randomGeneration = F.udf(lambda x: 100*random.random(), FloatType())\n",
    "    #cumulative_sum = cumulative_sum.withColumn('RandomNumber', randomGeneration(cumulative_sum.cumSum))\n",
    "    \n",
    "    #firstSelection = spark.sql(\"SELECT _1, MAX ('RouteFitness') AS bestIndividual from ordered_df LIMIT eliteSize\")\n",
    "    \n",
    "    return cumulative_sum, cumulative_rdd\n",
    "\n",
    "                                                       \n",
    "                              \n",
    "\"\"\"\n",
    "def selection(ordered_df, eliteSize):\n",
    "    \n",
    "    selectionResults = []\n",
    "    relativeFitness = []\n",
    "    \n",
    "    fitnessTotal = np.sum(popRanked, axis = 0)\n",
    "    cumulative_sum = np.cumsum(popRanked, axis =0)\n",
    "    \n",
    "    for i in range(len(popRanked)):\n",
    "        relativeFitness.append(100*cumulative_sum[i][1]/fitnessTotal[1])\n",
    "    \n",
    "    for i in range(0, eliteSize):\n",
    "        selectionResults.append(popRanked[i][0])\n",
    "    \n",
    "    for i in range(0, len(popRanked)-eliteSize):\n",
    "        pick = 100*random.random()\n",
    "        for i in range(0, len(popRanked)):\n",
    "            if pick <= relativeFitness[i]: \n",
    "                selectionResults.append(popRanked[i][0])\n",
    "                break\n",
    "                \n",
    "    return selectionResults\n",
    "\"\"\"\n",
    "\n",
    "def matingPool(population, selectionResults):\n",
    "    matingpool = []\n",
    "    \n",
    "    for i in range(len(selectionResults)):\n",
    "        matingpool.append(population[selectionResults[i]])\n",
    "    \n",
    "    return matingpool\n",
    "\n",
    "\n",
    "def breed(parent1, parent2):\n",
    "    \n",
    "    a = random.randint(0, len(parent1))\n",
    "    b = random.randint(0, len(parent1))\n",
    "    \n",
    "    if a>b:\n",
    "        child= parent1[b:a]\n",
    "    else:\n",
    "        child=parent1[a:b]\n",
    "        \n",
    "    for i in range(len(parent2)):\n",
    "        if (parent2[i] not in child):\n",
    "            child.append(parent2[i])                \n",
    "\n",
    "    return child\n",
    "\n",
    "def breedPopulation(matingpool, eliteSize):\n",
    "    children = []\n",
    "    length = len(matingpool) - eliteSize\n",
    "    pool = random.sample(matingpool, len(matingpool))\n",
    "\n",
    "    for i in range(0,eliteSize):\n",
    "        children.append(matingpool[i])\n",
    "    \n",
    "    for i in range(0, length):\n",
    "        child = breed(pool[i], pool[len(matingpool)-i-1])\n",
    "        children.append(child)\n",
    "    return children\n",
    "\n",
    "def mutate(individual, mutationRate):\n",
    "    \n",
    "    \"\"\" Partial Shuffle Mutation \"\"\"\n",
    "    \n",
    "    for swapped in range(len(individual)):\n",
    "        if(random.random() < mutationRate):\n",
    "            swapWith = int(random.random() * len(individual))\n",
    "            \n",
    "            city1 = individual[swapped]\n",
    "            city2 = individual[swapWith]\n",
    "            \n",
    "            individual[swapped] = city2\n",
    "            individual[swapWith] = city1\n",
    "    return individual\n",
    "\n",
    "def mutatePopulation(population, mutationRate):\n",
    "    mutatedPop = []\n",
    "    \n",
    "    for ind in range(0, len(population)):\n",
    "        mutatedInd = mutate(population[ind], mutationRate)\n",
    "        mutatedPop.append(mutatedInd)\n",
    "    return mutatedPop\n",
    "\n",
    "\n",
    "def nextGeneration(currentGen, eliteSize, mutationRate):\n",
    "    popRanked = rankRoutes(currentGen)\n",
    "    selectionResults = selection(popRanked, eliteSize)\n",
    "    matingpool = matingPool(currentGen, selectionResults)\n",
    "    children = breedPopulation(matingpool, eliteSize)\n",
    "    nextGeneration = mutatePopulation(children, mutationRate)\n",
    "    return nextGeneration\n",
    "\n",
    "def geneticAlgorithmPlot(population, popSize, eliteSize, mutationRate, generations):\n",
    "    pop = initialPopulation(popSize, population)\n",
    "    progress = []\n",
    "    progress.append(1 / rankRoutes(pop)[0][1])\n",
    "    \n",
    "    for i in range(0, generations):\n",
    "        pop = nextGeneration(pop, eliteSize, mutationRate)\n",
    "        progress.append(1 / rankRoutes(pop)[0][1])\n",
    "    \n",
    "    plt.plot(progress)\n",
    "    plt.ylabel('Distance')\n",
    "    plt.xlabel('Generation')\n",
    "    plt.show()\n",
    "    \n",
    "    \n",
    "\n",
    "    \n",
    ""
   ]
  },
  {
   "cell_type": "code",
   "execution_count": 79,
   "metadata": {},
   "outputs": [],
   "source": [
    "cityList = []\n",
    "\n",
    "for i in range(0,15):\n",
    "    cityList.append([int(random.randint(0,100)), int(random.randint(0,100))])\n",
    ""
   ]
  },
  {
   "cell_type": "code",
   "execution_count": 80,
   "metadata": {},
   "outputs": [],
   "source": [
    "rdd, df = initialPopulation(5, cityList)"
   ]
  },
  {
   "cell_type": "code",
   "execution_count": 81,
   "metadata": {},
   "outputs": [
    {
     "output_type": "display_data",
     "data": {
      "text/plain": "DataFrame[_1: array<bigint>, _2: array<array<bigint>>]"
     },
     "metadata": {}
    },
    {
     "output_type": "stream",
     "name": "stdout",
     "text": "+---+--------------------+\n| _1|                  _2|\n+---+--------------------+\n|[0]|[[18, 50], [92, 3...|\n|[1]|[[94, 26], [55, 1...|\n|[2]|[[94, 26], [55, 1...|\n|[3]|[[69, 73], [99, 8...|\n|[4]|[[99, 81], [95, 5...|\n+---+--------------------+\n\n"
    }
   ],
   "source": [
    "display(df)\n",
    "df.show(5)"
   ]
  },
  {
   "cell_type": "code",
   "execution_count": 82,
   "metadata": {},
   "outputs": [
    {
     "output_type": "display_data",
     "data": {
      "text/plain": "ParallelCollectionRDD[221] at readRDDFromFile at PythonRDD.scala:247"
     },
     "metadata": {}
    },
    {
     "output_type": "execute_result",
     "data": {
      "text/plain": "[Row(_1=[0], _2=[[18, 50], [92, 37], [99, 81], [94, 26], [79, 56], [39, 81], [31, 22], [95, 58], [57, 59], [60, 4], [88, 77], [45, 45], [15, 45], [55, 12], [69, 73]]),\n Row(_1=[1], _2=[[94, 26], [55, 12], [79, 56], [88, 77], [45, 45], [18, 50], [92, 37], [15, 45], [31, 22], [39, 81], [60, 4], [99, 81], [69, 73], [57, 59], [95, 58]]),\n Row(_1=[2], _2=[[94, 26], [55, 12], [92, 37], [60, 4], [88, 77], [31, 22], [39, 81], [69, 73], [99, 81], [95, 58], [79, 56], [45, 45], [18, 50], [57, 59], [15, 45]]),\n Row(_1=[3], _2=[[69, 73], [99, 81], [92, 37], [79, 56], [55, 12], [95, 58], [88, 77], [15, 45], [94, 26], [60, 4], [31, 22], [18, 50], [57, 59], [45, 45], [39, 81]]),\n Row(_1=[4], _2=[[99, 81], [95, 58], [39, 81], [69, 73], [31, 22], [15, 45], [18, 50], [45, 45], [92, 37], [57, 59], [60, 4], [88, 77], [94, 26], [79, 56], [55, 12]])]"
     },
     "metadata": {},
     "execution_count": 82
    }
   ],
   "source": [
    "display(rdd)\n",
    "df.take(5)"
   ]
  },
  {
   "cell_type": "code",
   "execution_count": 83,
   "metadata": {},
   "outputs": [],
   "source": [
    "ordered_rdd, ordered_df = rankRoutes(rdd, df)"
   ]
  },
  {
   "cell_type": "code",
   "execution_count": 84,
   "metadata": {},
   "outputs": [
    {
     "output_type": "stream",
     "name": "stdout",
     "text": "+---+--------------------+------------+\n| _1|                  _2|RouteFitness|\n+---+--------------------+------------+\n|[3]|[[69, 73], [99, 8...|0.0016066377|\n|[4]|[[99, 81], [95, 5...|0.0014728141|\n|[2]|[[94, 26], [55, 1...|0.0014720978|\n|[1]|[[94, 26], [55, 1...|0.0013865575|\n|[0]|[[18, 50], [92, 3...|0.0012287076|\n+---+--------------------+------------+\n\n"
    }
   ],
   "source": [
    "ordered_df.show(5)"
   ]
  },
  {
   "cell_type": "code",
   "execution_count": 85,
   "metadata": {},
   "outputs": [
    {
     "output_type": "execute_result",
     "data": {
      "text/plain": "[(0.0016066377343552168,\n  [[69, 73],\n   [99, 81],\n   [92, 37],\n   [79, 56],\n   [55, 12],\n   [95, 58],\n   [88, 77],\n   [15, 45],\n   [94, 26],\n   [60, 4],\n   [31, 22],\n   [18, 50],\n   [57, 59],\n   [45, 45],\n   [39, 81]]),\n (0.0014728141609162016,\n  [[99, 81],\n   [95, 58],\n   [39, 81],\n   [69, 73],\n   [31, 22],\n   [15, 45],\n   [18, 50],\n   [45, 45],\n   [92, 37],\n   [57, 59],\n   [60, 4],\n   [88, 77],\n   [94, 26],\n   [79, 56],\n   [55, 12]]),\n (0.0014720978104754495,\n  [[94, 26],\n   [55, 12],\n   [92, 37],\n   [60, 4],\n   [88, 77],\n   [31, 22],\n   [39, 81],\n   [69, 73],\n   [99, 81],\n   [95, 58],\n   [79, 56],\n   [45, 45],\n   [18, 50],\n   [57, 59],\n   [15, 45]]),\n (0.001386557501615706,\n  [[94, 26],\n   [55, 12],\n   [79, 56],\n   [88, 77],\n   [45, 45],\n   [18, 50],\n   [92, 37],\n   [15, 45],\n   [31, 22],\n   [39, 81],\n   [60, 4],\n   [99, 81],\n   [69, 73],\n   [57, 59],\n   [95, 58]]),\n (0.0012287075714732519,\n  [[18, 50],\n   [92, 37],\n   [99, 81],\n   [94, 26],\n   [79, 56],\n   [39, 81],\n   [31, 22],\n   [95, 58],\n   [57, 59],\n   [60, 4],\n   [88, 77],\n   [45, 45],\n   [15, 45],\n   [55, 12],\n   [69, 73]])]"
     },
     "metadata": {},
     "execution_count": 85
    }
   ],
   "source": [
    "ordered_rdd.take(5)"
   ]
  },
  {
   "cell_type": "code",
   "execution_count": 90,
   "metadata": {},
   "outputs": [],
   "source": [
    "cumulative_df, cumulative_rdd = selection(ordered_df, ordered_rdd, 5)"
   ]
  },
  {
   "cell_type": "code",
   "execution_count": 91,
   "metadata": {},
   "outputs": [
    {
     "output_type": "stream",
     "name": "stdout",
     "text": "+---+--------------------+------------+--------------------+---------------+\n| _1|                  _2|RouteFitness|              cumSum|RelativeFitness|\n+---+--------------------+------------+--------------------+---------------+\n|[3]|[[69, 73], [99, 8...|0.0016066377|0.001606637728400...|      22.417738|\n|[4]|[[99, 81], [95, 5...|0.0014728141|0.003079451853409...|       42.96821|\n|[2]|[[94, 26], [55, 1...|0.0014720978|0.004551549674943...|      63.508682|\n|[1]|[[94, 26], [55, 1...|0.0013865575|0.005938107147812843|        82.8556|\n|[0]|[[18, 50], [92, 3...|0.0012287076| 0.00716681475751102|          100.0|\n+---+--------------------+------------+--------------------+---------------+\n\n"
    }
   ],
   "source": [
    "cumulative_df.show()"
   ]
  },
  {
   "cell_type": "code",
   "execution_count": null,
   "metadata": {},
   "outputs": [],
   "source": [
    "cumulative_rdd.collect()"
   ]
  }
 ],
 "metadata": {
  "kernelspec": {
   "display_name": "Python 3",
   "language": "python",
   "name": "python3"
  },
  "language_info": {
   "codemirror_mode": {
    "name": "ipython",
    "version": 3
   },
   "file_extension": ".py",
   "mimetype": "text/x-python",
   "name": "python",
   "nbconvert_exporter": "python",
   "pygments_lexer": "ipython3",
   "version": "3.8.2-final"
  }
 },
 "nbformat": 4,
 "nbformat_minor": 4
}